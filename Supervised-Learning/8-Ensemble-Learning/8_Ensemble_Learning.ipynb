{
  "cells": [
    {
      "cell_type": "markdown",
      "metadata": {
        "id": "BEjQK8Yn0qml"
      },
      "source": [
        "# 8 Ensemble-Learning\n",
        "\n",
        "Follow the notebook to understand the background and implementation of ensemble learning through its 2 subtypes using built-in libraries and functions from skLearn followed by a visualization of their associated graphs and analysis of their accuracy."
      ]
    },
    {
      "cell_type": "markdown",
      "metadata": {
        "id": "CFDY1PEt1Gut"
      },
      "source": [
        "## Bagging"
      ]
    },
    {
      "cell_type": "markdown",
      "metadata": {
        "id": "emLwUO2ObpQ0"
      },
      "source": [
        "### Pre-Processing\n",
        "\n",
        "Before implementing the SVM algorithm, we want to examine the dataframe input and whether any pre-processing needs to occur. Here we are using SkLearn's wine dataframe to see how it contrasts the external one used in past notebooks.\n",
        "\n",
        "The dataset has dimensions of 178 rows x 13 columns. This is a highly condensed alternative to the external dataset previously used. We add the target (0s or 1s) from sklearn in the 14th column for readability and cohesion.\n",
        "\n",
        "In order to properly visualize the data, we take only the first 100 data points"
      ]
    },
    {
      "cell_type": "code",
      "execution_count": 1,
      "metadata": {
        "id": "Z0y_jHbs0nxt"
      },
      "outputs": [],
      "source": [
        "#load in the data\n",
        "import matplotlib.pyplot as plt\n",
        "import numpy as np\n",
        "import pandas as pd\n",
        "import seaborn as sns\n",
        "sns.set_theme()\n",
        "\n",
        "#load and examine the raw contents of the dataset\n",
        "\n",
        "from sklearn.datasets import load_wine\n",
        "\n",
        "wine = load_wine(as_frame=True)\n",
        "wines = wine.data\n",
        "wines['target'] = wine.target\n",
        "\n",
        "#shuffle the inputs so that we aren't just getting one type of wine and take the first 100\n",
        "wines = wines.sample(frac=1)\n",
        "wines = wines.iloc[:100]\n"
      ]
    },
    {
      "cell_type": "code",
      "execution_count": 2,
      "metadata": {
        "colab": {
          "base_uri": "https://localhost:8080/",
          "height": 483
        },
        "id": "iOqj5o4RhkPy",
        "outputId": "66d4ef10-d915-47f1-c861-4332d6ab5910"
      },
      "outputs": [
        {
          "data": {
            "text/html": [
              "\n",
              "  <div id=\"df-f1ee5429-6d0a-4a56-8925-ff02a47465a3\">\n",
              "    <div class=\"colab-df-container\">\n",
              "      <div>\n",
              "<style scoped>\n",
              "    .dataframe tbody tr th:only-of-type {\n",
              "        vertical-align: middle;\n",
              "    }\n",
              "\n",
              "    .dataframe tbody tr th {\n",
              "        vertical-align: top;\n",
              "    }\n",
              "\n",
              "    .dataframe thead th {\n",
              "        text-align: right;\n",
              "    }\n",
              "</style>\n",
              "<table border=\"1\" class=\"dataframe\">\n",
              "  <thead>\n",
              "    <tr style=\"text-align: right;\">\n",
              "      <th></th>\n",
              "      <th>alcohol</th>\n",
              "      <th>malic_acid</th>\n",
              "      <th>ash</th>\n",
              "      <th>alcalinity_of_ash</th>\n",
              "      <th>magnesium</th>\n",
              "      <th>total_phenols</th>\n",
              "      <th>flavanoids</th>\n",
              "      <th>nonflavanoid_phenols</th>\n",
              "      <th>proanthocyanins</th>\n",
              "      <th>color_intensity</th>\n",
              "      <th>hue</th>\n",
              "      <th>od280/od315_of_diluted_wines</th>\n",
              "      <th>proline</th>\n",
              "      <th>target</th>\n",
              "    </tr>\n",
              "  </thead>\n",
              "  <tbody>\n",
              "    <tr>\n",
              "      <th>43</th>\n",
              "      <td>13.24</td>\n",
              "      <td>3.98</td>\n",
              "      <td>2.29</td>\n",
              "      <td>17.5</td>\n",
              "      <td>103.0</td>\n",
              "      <td>2.64</td>\n",
              "      <td>2.63</td>\n",
              "      <td>0.32</td>\n",
              "      <td>1.66</td>\n",
              "      <td>4.36</td>\n",
              "      <td>0.820</td>\n",
              "      <td>3.00</td>\n",
              "      <td>680.0</td>\n",
              "      <td>0</td>\n",
              "    </tr>\n",
              "    <tr>\n",
              "      <th>166</th>\n",
              "      <td>13.45</td>\n",
              "      <td>3.70</td>\n",
              "      <td>2.60</td>\n",
              "      <td>23.0</td>\n",
              "      <td>111.0</td>\n",
              "      <td>1.70</td>\n",
              "      <td>0.92</td>\n",
              "      <td>0.43</td>\n",
              "      <td>1.46</td>\n",
              "      <td>10.68</td>\n",
              "      <td>0.850</td>\n",
              "      <td>1.56</td>\n",
              "      <td>695.0</td>\n",
              "      <td>2</td>\n",
              "    </tr>\n",
              "    <tr>\n",
              "      <th>133</th>\n",
              "      <td>12.70</td>\n",
              "      <td>3.55</td>\n",
              "      <td>2.36</td>\n",
              "      <td>21.5</td>\n",
              "      <td>106.0</td>\n",
              "      <td>1.70</td>\n",
              "      <td>1.20</td>\n",
              "      <td>0.17</td>\n",
              "      <td>0.84</td>\n",
              "      <td>5.00</td>\n",
              "      <td>0.780</td>\n",
              "      <td>1.29</td>\n",
              "      <td>600.0</td>\n",
              "      <td>2</td>\n",
              "    </tr>\n",
              "    <tr>\n",
              "      <th>112</th>\n",
              "      <td>11.76</td>\n",
              "      <td>2.68</td>\n",
              "      <td>2.92</td>\n",
              "      <td>20.0</td>\n",
              "      <td>103.0</td>\n",
              "      <td>1.75</td>\n",
              "      <td>2.03</td>\n",
              "      <td>0.60</td>\n",
              "      <td>1.05</td>\n",
              "      <td>3.80</td>\n",
              "      <td>1.230</td>\n",
              "      <td>2.50</td>\n",
              "      <td>607.0</td>\n",
              "      <td>1</td>\n",
              "    </tr>\n",
              "    <tr>\n",
              "      <th>165</th>\n",
              "      <td>13.73</td>\n",
              "      <td>4.36</td>\n",
              "      <td>2.26</td>\n",
              "      <td>22.5</td>\n",
              "      <td>88.0</td>\n",
              "      <td>1.28</td>\n",
              "      <td>0.47</td>\n",
              "      <td>0.52</td>\n",
              "      <td>1.15</td>\n",
              "      <td>6.62</td>\n",
              "      <td>0.780</td>\n",
              "      <td>1.75</td>\n",
              "      <td>520.0</td>\n",
              "      <td>2</td>\n",
              "    </tr>\n",
              "    <tr>\n",
              "      <th>...</th>\n",
              "      <td>...</td>\n",
              "      <td>...</td>\n",
              "      <td>...</td>\n",
              "      <td>...</td>\n",
              "      <td>...</td>\n",
              "      <td>...</td>\n",
              "      <td>...</td>\n",
              "      <td>...</td>\n",
              "      <td>...</td>\n",
              "      <td>...</td>\n",
              "      <td>...</td>\n",
              "      <td>...</td>\n",
              "      <td>...</td>\n",
              "      <td>...</td>\n",
              "    </tr>\n",
              "    <tr>\n",
              "      <th>8</th>\n",
              "      <td>14.83</td>\n",
              "      <td>1.64</td>\n",
              "      <td>2.17</td>\n",
              "      <td>14.0</td>\n",
              "      <td>97.0</td>\n",
              "      <td>2.80</td>\n",
              "      <td>2.98</td>\n",
              "      <td>0.29</td>\n",
              "      <td>1.98</td>\n",
              "      <td>5.20</td>\n",
              "      <td>1.080</td>\n",
              "      <td>2.85</td>\n",
              "      <td>1045.0</td>\n",
              "      <td>0</td>\n",
              "    </tr>\n",
              "    <tr>\n",
              "      <th>11</th>\n",
              "      <td>14.12</td>\n",
              "      <td>1.48</td>\n",
              "      <td>2.32</td>\n",
              "      <td>16.8</td>\n",
              "      <td>95.0</td>\n",
              "      <td>2.20</td>\n",
              "      <td>2.43</td>\n",
              "      <td>0.26</td>\n",
              "      <td>1.57</td>\n",
              "      <td>5.00</td>\n",
              "      <td>1.170</td>\n",
              "      <td>2.82</td>\n",
              "      <td>1280.0</td>\n",
              "      <td>0</td>\n",
              "    </tr>\n",
              "    <tr>\n",
              "      <th>70</th>\n",
              "      <td>12.29</td>\n",
              "      <td>1.61</td>\n",
              "      <td>2.21</td>\n",
              "      <td>20.4</td>\n",
              "      <td>103.0</td>\n",
              "      <td>1.10</td>\n",
              "      <td>1.02</td>\n",
              "      <td>0.37</td>\n",
              "      <td>1.46</td>\n",
              "      <td>3.05</td>\n",
              "      <td>0.906</td>\n",
              "      <td>1.82</td>\n",
              "      <td>870.0</td>\n",
              "      <td>1</td>\n",
              "    </tr>\n",
              "    <tr>\n",
              "      <th>51</th>\n",
              "      <td>13.83</td>\n",
              "      <td>1.65</td>\n",
              "      <td>2.60</td>\n",
              "      <td>17.2</td>\n",
              "      <td>94.0</td>\n",
              "      <td>2.45</td>\n",
              "      <td>2.99</td>\n",
              "      <td>0.22</td>\n",
              "      <td>2.29</td>\n",
              "      <td>5.60</td>\n",
              "      <td>1.240</td>\n",
              "      <td>3.37</td>\n",
              "      <td>1265.0</td>\n",
              "      <td>0</td>\n",
              "    </tr>\n",
              "    <tr>\n",
              "      <th>122</th>\n",
              "      <td>12.42</td>\n",
              "      <td>4.43</td>\n",
              "      <td>2.73</td>\n",
              "      <td>26.5</td>\n",
              "      <td>102.0</td>\n",
              "      <td>2.20</td>\n",
              "      <td>2.13</td>\n",
              "      <td>0.43</td>\n",
              "      <td>1.71</td>\n",
              "      <td>2.08</td>\n",
              "      <td>0.920</td>\n",
              "      <td>3.12</td>\n",
              "      <td>365.0</td>\n",
              "      <td>1</td>\n",
              "    </tr>\n",
              "  </tbody>\n",
              "</table>\n",
              "<p>100 rows × 14 columns</p>\n",
              "</div>\n",
              "      <button class=\"colab-df-convert\" onclick=\"convertToInteractive('df-f1ee5429-6d0a-4a56-8925-ff02a47465a3')\"\n",
              "              title=\"Convert this dataframe to an interactive table.\"\n",
              "              style=\"display:none;\">\n",
              "        \n",
              "  <svg xmlns=\"http://www.w3.org/2000/svg\" height=\"24px\"viewBox=\"0 0 24 24\"\n",
              "       width=\"24px\">\n",
              "    <path d=\"M0 0h24v24H0V0z\" fill=\"none\"/>\n",
              "    <path d=\"M18.56 5.44l.94 2.06.94-2.06 2.06-.94-2.06-.94-.94-2.06-.94 2.06-2.06.94zm-11 1L8.5 8.5l.94-2.06 2.06-.94-2.06-.94L8.5 2.5l-.94 2.06-2.06.94zm10 10l.94 2.06.94-2.06 2.06-.94-2.06-.94-.94-2.06-.94 2.06-2.06.94z\"/><path d=\"M17.41 7.96l-1.37-1.37c-.4-.4-.92-.59-1.43-.59-.52 0-1.04.2-1.43.59L10.3 9.45l-7.72 7.72c-.78.78-.78 2.05 0 2.83L4 21.41c.39.39.9.59 1.41.59.51 0 1.02-.2 1.41-.59l7.78-7.78 2.81-2.81c.8-.78.8-2.07 0-2.86zM5.41 20L4 18.59l7.72-7.72 1.47 1.35L5.41 20z\"/>\n",
              "  </svg>\n",
              "      </button>\n",
              "      \n",
              "  <style>\n",
              "    .colab-df-container {\n",
              "      display:flex;\n",
              "      flex-wrap:wrap;\n",
              "      gap: 12px;\n",
              "    }\n",
              "\n",
              "    .colab-df-convert {\n",
              "      background-color: #E8F0FE;\n",
              "      border: none;\n",
              "      border-radius: 50%;\n",
              "      cursor: pointer;\n",
              "      display: none;\n",
              "      fill: #1967D2;\n",
              "      height: 32px;\n",
              "      padding: 0 0 0 0;\n",
              "      width: 32px;\n",
              "    }\n",
              "\n",
              "    .colab-df-convert:hover {\n",
              "      background-color: #E2EBFA;\n",
              "      box-shadow: 0px 1px 2px rgba(60, 64, 67, 0.3), 0px 1px 3px 1px rgba(60, 64, 67, 0.15);\n",
              "      fill: #174EA6;\n",
              "    }\n",
              "\n",
              "    [theme=dark] .colab-df-convert {\n",
              "      background-color: #3B4455;\n",
              "      fill: #D2E3FC;\n",
              "    }\n",
              "\n",
              "    [theme=dark] .colab-df-convert:hover {\n",
              "      background-color: #434B5C;\n",
              "      box-shadow: 0px 1px 3px 1px rgba(0, 0, 0, 0.15);\n",
              "      filter: drop-shadow(0px 1px 2px rgba(0, 0, 0, 0.3));\n",
              "      fill: #FFFFFF;\n",
              "    }\n",
              "  </style>\n",
              "\n",
              "      <script>\n",
              "        const buttonEl =\n",
              "          document.querySelector('#df-f1ee5429-6d0a-4a56-8925-ff02a47465a3 button.colab-df-convert');\n",
              "        buttonEl.style.display =\n",
              "          google.colab.kernel.accessAllowed ? 'block' : 'none';\n",
              "\n",
              "        async function convertToInteractive(key) {\n",
              "          const element = document.querySelector('#df-f1ee5429-6d0a-4a56-8925-ff02a47465a3');\n",
              "          const dataTable =\n",
              "            await google.colab.kernel.invokeFunction('convertToInteractive',\n",
              "                                                     [key], {});\n",
              "          if (!dataTable) return;\n",
              "\n",
              "          const docLinkHtml = 'Like what you see? Visit the ' +\n",
              "            '<a target=\"_blank\" href=https://colab.research.google.com/notebooks/data_table.ipynb>data table notebook</a>'\n",
              "            + ' to learn more about interactive tables.';\n",
              "          element.innerHTML = '';\n",
              "          dataTable['output_type'] = 'display_data';\n",
              "          await google.colab.output.renderOutput(dataTable, element);\n",
              "          const docLink = document.createElement('div');\n",
              "          docLink.innerHTML = docLinkHtml;\n",
              "          element.appendChild(docLink);\n",
              "        }\n",
              "      </script>\n",
              "    </div>\n",
              "  </div>\n",
              "  "
            ],
            "text/plain": [
              "     alcohol  malic_acid   ash  alcalinity_of_ash  magnesium  total_phenols  \\\n",
              "43     13.24        3.98  2.29               17.5      103.0           2.64   \n",
              "166    13.45        3.70  2.60               23.0      111.0           1.70   \n",
              "133    12.70        3.55  2.36               21.5      106.0           1.70   \n",
              "112    11.76        2.68  2.92               20.0      103.0           1.75   \n",
              "165    13.73        4.36  2.26               22.5       88.0           1.28   \n",
              "..       ...         ...   ...                ...        ...            ...   \n",
              "8      14.83        1.64  2.17               14.0       97.0           2.80   \n",
              "11     14.12        1.48  2.32               16.8       95.0           2.20   \n",
              "70     12.29        1.61  2.21               20.4      103.0           1.10   \n",
              "51     13.83        1.65  2.60               17.2       94.0           2.45   \n",
              "122    12.42        4.43  2.73               26.5      102.0           2.20   \n",
              "\n",
              "     flavanoids  nonflavanoid_phenols  proanthocyanins  color_intensity  \\\n",
              "43         2.63                  0.32             1.66             4.36   \n",
              "166        0.92                  0.43             1.46            10.68   \n",
              "133        1.20                  0.17             0.84             5.00   \n",
              "112        2.03                  0.60             1.05             3.80   \n",
              "165        0.47                  0.52             1.15             6.62   \n",
              "..          ...                   ...              ...              ...   \n",
              "8          2.98                  0.29             1.98             5.20   \n",
              "11         2.43                  0.26             1.57             5.00   \n",
              "70         1.02                  0.37             1.46             3.05   \n",
              "51         2.99                  0.22             2.29             5.60   \n",
              "122        2.13                  0.43             1.71             2.08   \n",
              "\n",
              "       hue  od280/od315_of_diluted_wines  proline  target  \n",
              "43   0.820                          3.00    680.0       0  \n",
              "166  0.850                          1.56    695.0       2  \n",
              "133  0.780                          1.29    600.0       2  \n",
              "112  1.230                          2.50    607.0       1  \n",
              "165  0.780                          1.75    520.0       2  \n",
              "..     ...                           ...      ...     ...  \n",
              "8    1.080                          2.85   1045.0       0  \n",
              "11   1.170                          2.82   1280.0       0  \n",
              "70   0.906                          1.82    870.0       1  \n",
              "51   1.240                          3.37   1265.0       0  \n",
              "122  0.920                          3.12    365.0       1  \n",
              "\n",
              "[100 rows x 14 columns]"
            ]
          },
          "execution_count": 2,
          "metadata": {},
          "output_type": "execute_result"
        }
      ],
      "source": [
        "wines"
      ]
    },
    {
      "cell_type": "code",
      "execution_count": 3,
      "metadata": {
        "colab": {
          "base_uri": "https://localhost:8080/",
          "height": 515
        },
        "id": "IkKSxiScg80F",
        "outputId": "27629143-b192-4943-b2c7-76736728e9d6"
      },
      "outputs": [
        {
          "data": {
            "image/png": "[encoded data removed]",
            "text/plain": [
              "<Figure size 720x576 with 1 Axes>"
            ]
          },
          "metadata": {},
          "output_type": "display_data"
        }
      ],
      "source": [
        "#for training and testing\n",
        "X = wines[['alcohol', 'flavanoids']]\n",
        "y = wines.target[:100]\n",
        "\n",
        "#for graphing\n",
        "a = wines.alcohol\n",
        "b = wines.flavanoids\n",
        "\n",
        "#plot the shuffled inputs\n",
        "fig, ax = plt.subplots(figsize=(10, 8))\n",
        "scatter = ax.scatter(a, b, c=y, cmap='inferno')\n",
        "\n",
        "# produce a legend with the unique colors from the scatter\n",
        "legend1 = ax.legend(*scatter.legend_elements(),\n",
        "                    loc=\"upper left\", title=\"wine types\")\n",
        "ax.add_artist(legend1)\n",
        "ax.set_xlabel(a.name, fontsize = 10)\n",
        "ax.set_ylabel(b.name, fontsize = 10)\n",
        "ax.set_title('Alcohol Content and Flavanoids in Various Wine Types')\n",
        "ax.grid(True)\n",
        "\n",
        "plt.show()"
      ]
    },
    {
      "cell_type": "markdown",
      "metadata": {
        "id": "uAFjnS1ecQhj"
      },
      "source": [
        "### Implementation to Train and Test\n",
        "\n",
        "Use skLearn's train, test, split function to section the input data with training using 70% of the data and testing using 30% of the data"
      ]
    },
    {
      "cell_type": "code",
      "execution_count": 4,
      "metadata": {
        "id": "8QGtq9nTYgk6"
      },
      "outputs": [],
      "source": [
        "from sklearn.model_selection import train_test_split\n",
        "from sklearn.metrics import classification_report\n",
        "\n",
        "X_train, X_test, y_train, y_test = train_test_split(np.array(X), \n",
        "                                                    y,\n",
        "                                                    test_size = 0.3, \n",
        "                                                    random_state = 42)\n",
        "#apply the classifier\n",
        "from sklearn.tree import DecisionTreeClassifier\n",
        "from sklearn.ensemble import BaggingClassifier\n",
        "\n",
        "bag_clf = BaggingClassifier(DecisionTreeClassifier(max_depth=1, random_state=42),\n",
        "                            n_estimators = 500,\n",
        "                            bootstrap = True,\n",
        "                            n_jobs = -1)\n",
        "bag_clf.fit(X_train, y_train)\n",
        "bag_y_pred = bag_clf.predict(X_test)"
      ]
    },
    {
      "cell_type": "markdown",
      "metadata": {
        "id": "gh85NrxmckXs"
      },
      "source": [
        "### Accuracy\n",
        "\n",
        "Here we want to test the classification and accuracy of the Bagging model.\n",
        "\n",
        "The decision region plot seems to accurately section off the regions where points belong"
      ]
    },
    {
      "cell_type": "code",
      "execution_count": 5,
      "metadata": {
        "colab": {
          "base_uri": "https://localhost:8080/",
          "height": 558
        },
        "id": "djFAI07CYn4p",
        "outputId": "7dcb2d4a-3394-4b9d-c95d-cd4432b61a2b"
      },
      "outputs": [
        {
          "name": "stderr",
          "output_type": "stream",
          "text": [
            "/usr/local/lib/python3.8/dist-packages/mlxtend/plotting/decision_regions.py:244: MatplotlibDeprecationWarning: Passing unsupported keyword arguments to axis() will raise a TypeError in 3.3.\n",
            "  ax.axis(xmin=xx.min(), xmax=xx.max(), y_min=yy.min(), y_max=yy.max())\n"
          ]
        },
        {
          "data": {
            "image/png": "[encoded data removed]",
            "text/plain": [
              "<Figure size 720x576 with 1 Axes>"
            ]
          },
          "metadata": {},
          "output_type": "display_data"
        }
      ],
      "source": [
        "from mlxtend.plotting import plot_decision_regions\n",
        "\n",
        "#change the inputs to arrays for plotting\n",
        "X_arr = np.array(X)\n",
        "y_arr = np.array(y)\n",
        "plt.figure(figsize = (10, 8))\n",
        "plot_decision_regions(X_arr, y_arr, clf = bag_clf)\n",
        "plt.xlabel(a.name, fontsize = 15)\n",
        "plt.ylabel(b.name, fontsize = 15)\n",
        "plt.grid()\n",
        "plt.show()"
      ]
    },
    {
      "cell_type": "markdown",
      "metadata": {
        "id": "3oFXp5rtdBb7"
      },
      "source": [
        "We want to get the classification report of the Bagging model, which shows above average results, but could certainly be improved since there seems to be some variability"
      ]
    },
    {
      "cell_type": "code",
      "execution_count": 6,
      "metadata": {
        "colab": {
          "base_uri": "https://localhost:8080/"
        },
        "id": "q543vClkckpt",
        "outputId": "3e6e45b7-9ac3-4e42-a7cc-f87f01ec2186"
      },
      "outputs": [
        {
          "name": "stdout",
          "output_type": "stream",
          "text": [
            "Bagging Classification Report\n",
            "              precision    recall  f1-score   support\n",
            "\n",
            "           0       0.83      1.00      0.91        10\n",
            "           1       1.00      0.64      0.78        11\n",
            "           2       0.82      1.00      0.90         9\n",
            "\n",
            "    accuracy                           0.87        30\n",
            "   macro avg       0.88      0.88      0.86        30\n",
            "weighted avg       0.89      0.87      0.86        30\n",
            " \n",
            "\n"
          ]
        }
      ],
      "source": [
        "print(f\"Bagging Classification Report\")\n",
        "print(classification_report(y_test, bag_y_pred), \"\\n\")"
      ]
    },
    {
      "cell_type": "markdown",
      "metadata": {
        "id": "Qg-WMwRAYpoB"
      },
      "source": [
        "## Random Forests"
      ]
    },
    {
      "cell_type": "markdown",
      "metadata": {
        "id": "ALLDZoKFdU93"
      },
      "source": [
        "### Implementation to Train and Test\n",
        "\n",
        "Use skLearn's train, test, split function to section the input data with training using 70% of the data and testing using 30% of the data"
      ]
    },
    {
      "cell_type": "code",
      "execution_count": 7,
      "metadata": {
        "colab": {
          "base_uri": "https://localhost:8080/"
        },
        "id": "8nuWwmmBYrhP",
        "outputId": "dc624ff3-dd56-4443-ff4e-b84342934fb9"
      },
      "outputs": [
        {
          "name": "stderr",
          "output_type": "stream",
          "text": [
            "/usr/local/lib/python3.8/dist-packages/sklearn/base.py:443: UserWarning: X has feature names, but BaggingClassifier was fitted without feature names\n",
            "  warnings.warn(\n"
          ]
        }
      ],
      "source": [
        "from sklearn.ensemble import RandomForestClassifier\n",
        "\n",
        "X_train, X_test, y_train, y_test = train_test_split(X, \n",
        "                                                    y,\n",
        "                                                    test_size = 0.3, \n",
        "                                                    random_state = 42)\n",
        "forest_clf = RandomForestClassifier(max_depth = 1, n_estimators = 500,\n",
        "                                    bootstrap = True,\n",
        "                                    n_jobs = -1)\n",
        "forest_clf.fit(X_train, y_train)\n",
        "forest_y_pred = bag_clf.predict(X_test)"
      ]
    },
    {
      "cell_type": "markdown",
      "metadata": {
        "id": "QsqzlX7jdeTI"
      },
      "source": [
        "### Accuracy\n",
        "\n",
        "Here we want to test the classification and accuracy of the Random Forests model.\n",
        "\n",
        "The decision region plot seems to accurately section off the regions where points belong"
      ]
    },
    {
      "cell_type": "code",
      "execution_count": 8,
      "metadata": {
        "colab": {
          "base_uri": "https://localhost:8080/",
          "height": 592
        },
        "id": "ko9x0Cw8Y0pm",
        "outputId": "9ea430d4-57ce-4ff1-8b36-914bc840dbcd"
      },
      "outputs": [
        {
          "name": "stderr",
          "output_type": "stream",
          "text": [
            "/usr/local/lib/python3.8/dist-packages/sklearn/base.py:450: UserWarning: X does not have valid feature names, but RandomForestClassifier was fitted with feature names\n",
            "  warnings.warn(\n",
            "/usr/local/lib/python3.8/dist-packages/mlxtend/plotting/decision_regions.py:244: MatplotlibDeprecationWarning: Passing unsupported keyword arguments to axis() will raise a TypeError in 3.3.\n",
            "  ax.axis(xmin=xx.min(), xmax=xx.max(), y_min=yy.min(), y_max=yy.max())\n"
          ]
        },
        {
          "data": {
            "image/png": "[encoded data removed]",
            "text/plain": [
              "<Figure size 720x576 with 1 Axes>"
            ]
          },
          "metadata": {},
          "output_type": "display_data"
        }
      ],
      "source": [
        "#change the inputs to arrays for plotting\n",
        "X_arr = np.array(X)\n",
        "y_arr = np.array(y)\n",
        "\n",
        "plt.figure(figsize = (10, 8))\n",
        "plot_decision_regions(X_arr, y_arr, clf = forest_clf)\n",
        "plt.xlabel(a.name, fontsize = 15)\n",
        "plt.ylabel(b.name, fontsize = 15)\n",
        "plt.grid()\n",
        "plt.show()\n"
      ]
    },
    {
      "attachments": {},
      "cell_type": "markdown",
      "metadata": {
        "id": "cdOL5J0kduNb"
      },
      "source": [
        "We want to get the classification report of the Random Forests model, which shows better results than the Bagging method"
      ]
    },
    {
      "cell_type": "code",
      "execution_count": 9,
      "metadata": {
        "colab": {
          "base_uri": "https://localhost:8080/"
        },
        "id": "1rEEuZeCdaGu",
        "outputId": "ed2ec051-4832-461f-f041-9e9ae39bbd6a"
      },
      "outputs": [
        {
          "name": "stdout",
          "output_type": "stream",
          "text": [
            "Forest Classification Report\n",
            "              precision    recall  f1-score   support\n",
            "\n",
            "           0       0.83      1.00      0.91        10\n",
            "           1       1.00      0.64      0.78        11\n",
            "           2       0.82      1.00      0.90         9\n",
            "\n",
            "    accuracy                           0.87        30\n",
            "   macro avg       0.88      0.88      0.86        30\n",
            "weighted avg       0.89      0.87      0.86        30\n",
            " \n",
            "\n"
          ]
        }
      ],
      "source": [
        "print(f\"Forest Classification Report\")\n",
        "print(classification_report(y_test, forest_y_pred), \"\\n\")"
      ]
    }
  ],
  "metadata": {
    "colab": {
      "collapsed_sections": [
        "ALLDZoKFdU93"
      ],
      "provenance": []
    },
    "kernelspec": {
      "display_name": "Python 3",
      "name": "python3"
    },
    "language_info": {
      "name": "python"
    }
  },
  "nbformat": 4,
  "nbformat_minor": 0
}
